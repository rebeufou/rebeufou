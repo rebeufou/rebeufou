{
  "nbformat": 4,
  "nbformat_minor": 0,
  "metadata": {
    "colab": {
      "provenance": [],
      "authorship_tag": "ABX9TyMTLmtS976NAED2OKHXnQrb",
      "include_colab_link": true
    },
    "kernelspec": {
      "name": "python3",
      "display_name": "Python 3"
    },
    "language_info": {
      "name": "python"
    }
  },
  "cells": [
    {
      "cell_type": "markdown",
      "metadata": {
        "id": "view-in-github",
        "colab_type": "text"
      },
      "source": [
        "<a href=\"https://colab.research.google.com/github/rebeufou/rebeufou/blob/main/S11.ipynb\" target=\"_parent\"><img src=\"https://colab.research.google.com/assets/colab-badge.svg\" alt=\"Open In Colab\"/></a>"
      ]
    },
    {
      "cell_type": "code",
      "execution_count": 28,
      "metadata": {
        "id": "HI8nRkCZrbbL"
      },
      "outputs": [],
      "source": [
        "names = open(\"names.txt\") #options : read(r), write(w), append(a), r+ : read + write\n",
        "for name in names:\n",
        "  print(\"Hello {}\".format(name))"
      ]
    },
    {
      "cell_type": "code",
      "source": [
        "names = open(\"names.txt\") #options : read(r), write(w), append(a), r+ : read + write\n",
        "for name in names:\n",
        "  name = name.strip() #: sans les sauts de ligne\n",
        "  print(\"Hello {}\".format(name))"
      ],
      "metadata": {
        "colab": {
          "base_uri": "https://localhost:8080/"
        },
        "id": "cnRXdTvXu2f_",
        "outputId": "7fdd0eec-0917-4154-ae71-4e2a76f4f16c"
      },
      "execution_count": 37,
      "outputs": [
        {
          "output_type": "stream",
          "name": "stdout",
          "text": [
            "Hello John\n",
            "Hello Connor\n",
            "Hello Aoiffe\n",
            "Hello Anna\n",
            "Hello Sam\n"
          ]
        }
      ]
    },
    {
      "cell_type": "code",
      "source": [
        "names = open(\"names.txt\") #options : read(r), write(w), append(a), r+ : read + write\n",
        "for name in names:\n",
        "  if \"a\" in names:\n",
        "    name = name.strip() #: sans les sauts de ligne\n",
        "    print(\"Hello {}\".format(name))"
      ],
      "metadata": {
        "id": "WyADIp5_vBtV"
      },
      "execution_count": 36,
      "outputs": []
    },
    {
      "cell_type": "code",
      "source": [
        "f = open(\"test.txt\",\"r\")\n",
        "f = open(\"test.txt\",\"w\")\n",
        "#f = open(\"test.txt\",\"a\")\n",
        "f = open(\"test.txt\",\"r+\")\n",
        "print(f.name)\n",
        "print(f.mode)\n",
        "f.close()"
      ],
      "metadata": {
        "colab": {
          "base_uri": "https://localhost:8080/"
        },
        "id": "4cu67rubwS_8",
        "outputId": "a4aefd1f-f379-4f9f-ae96-7c1eaace9f86"
      },
      "execution_count": 29,
      "outputs": [
        {
          "output_type": "stream",
          "name": "stdout",
          "text": [
            "test.txt\n",
            "r+\n"
          ]
        }
      ]
    },
    {
      "cell_type": "code",
      "source": [
        "fnames = open(\"names.txt\",\"w\")\n",
        "fnames = \"Niamh\"\n",
        "for name in fnames:\n",
        "  print(name)"
      ],
      "metadata": {
        "colab": {
          "base_uri": "https://localhost:8080/"
        },
        "id": "q-DcbobuxI3o",
        "outputId": "a674581c-affd-491a-bd97-5014e1ea43dc"
      },
      "execution_count": 40,
      "outputs": [
        {
          "output_type": "stream",
          "name": "stdout",
          "text": [
            "N\n",
            "i\n",
            "a\n",
            "m\n",
            "h\n"
          ]
        }
      ]
    },
    {
      "cell_type": "code",
      "source": [
        "fnames = open(\"names.txt\",\"r\")\n",
        "for name in fnames:\n",
        "  print(name)"
      ],
      "metadata": {
        "id": "c5XJ_sdozwVJ"
      },
      "execution_count": 42,
      "outputs": []
    },
    {
      "cell_type": "code",
      "source": [
        "#Reading Files (Context Manager):\n",
        "with open(\"test.txt\", \"r\") as f:\n",
        "  f_contents = f.read() #lis toutes les lignes du fichier\n",
        "  print(f_contents)"
      ],
      "metadata": {
        "colab": {
          "base_uri": "https://localhost:8080/"
        },
        "id": "YwpPCHcjz6Y6",
        "outputId": "82fa3eb0-a751-429b-c9fe-967fdcbce488"
      },
      "execution_count": 43,
      "outputs": [
        {
          "output_type": "stream",
          "name": "stdout",
          "text": [
            "1) This is a test file\n",
            "2) With multiple lines of data...\n",
            "3) Third line\n",
            "4) Fourth line\n",
            "5) Fifth line\n",
            "6) Sixth line\n",
            "7) Seventh line\n",
            "8) Eight line\n",
            "9) Ninth line\n",
            "10) Tenth line\n"
          ]
        }
      ]
    },
    {
      "cell_type": "code",
      "source": [
        "#Reading Files (Context Manager):\n",
        "with open(\"test.txt\", \"r\") as f:\n",
        "  f_contents = f.readlines() #considère le fichier comme une liste\n",
        "  print(f_contents)"
      ],
      "metadata": {
        "colab": {
          "base_uri": "https://localhost:8080/"
        },
        "id": "RX429vmu1Z2S",
        "outputId": "f63c169d-5edc-483f-cc7c-a5624207cc30"
      },
      "execution_count": 44,
      "outputs": [
        {
          "output_type": "stream",
          "name": "stdout",
          "text": [
            "['1) This is a test file\\n', '2) With multiple lines of data...\\n', '3) Third line\\n', '4) Fourth line\\n', '5) Fifth line\\n', '6) Sixth line\\n', '7) Seventh line\\n', '8) Eight line\\n', '9) Ninth line\\n', '10) Tenth line']\n"
          ]
        }
      ]
    },
    {
      "cell_type": "code",
      "source": [
        "#Reading Files (Context Manager):\n",
        "with open(\"test.txt\", \"r\") as f:\n",
        "  f_contents = f.readline() #affiche une ligne à la fois\n",
        "  print(f_contents)\n",
        "  f_contents = f.readline() #affiche une ligne à la fois\n",
        "  print(f_contents)"
      ],
      "metadata": {
        "colab": {
          "base_uri": "https://localhost:8080/"
        },
        "id": "BNeBLui137VV",
        "outputId": "c8a63d88-ab84-4a67-8b73-4cc7dc8c3c15"
      },
      "execution_count": 46,
      "outputs": [
        {
          "output_type": "stream",
          "name": "stdout",
          "text": [
            "1) This is a test file\n",
            "\n",
            "2) With multiple lines of data...\n",
            "\n"
          ]
        }
      ]
    },
    {
      "cell_type": "code",
      "source": [
        "#Reading Files (Context Manager):\n",
        "with open(\"test.txt\", \"r\") as f:\n",
        "  f_contents = f.readline() #affiche une ligne à la fois\n",
        "  print(f_contents, end = '')#sans saut de ligne\n",
        "  f_contents = f.readline() #affiche une ligne à la fois\n",
        "  print(f_contents, end = '')"
      ],
      "metadata": {
        "colab": {
          "base_uri": "https://localhost:8080/"
        },
        "id": "BCwQIek84_Oe",
        "outputId": "6250651f-a6b0-4536-bc3d-689c04cd1d7b"
      },
      "execution_count": 47,
      "outputs": [
        {
          "output_type": "stream",
          "name": "stdout",
          "text": [
            "1) This is a test file\n",
            "2) With multiple lines of data...\n"
          ]
        }
      ]
    },
    {
      "cell_type": "code",
      "source": [
        "with open(\"test2.txt\", \"w\") as f:\n",
        "  f.write(\"Test\") #writings files"
      ],
      "metadata": {
        "id": "VNs80Qgq5ytA"
      },
      "execution_count": 50,
      "outputs": []
    },
    {
      "cell_type": "code",
      "source": [
        "#Writings Starts\n",
        "with open(\"test2.txt\",\"w\") as f:\n",
        "  f.write(\"Test\")\n",
        "  f.seek(10) #met le curseur à l'emplacement 0\n",
        "  f.write(\"R\") #écris à l'emplacement 0"
      ],
      "metadata": {
        "id": "2WgKDhSR-1La"
      },
      "execution_count": 54,
      "outputs": []
    },
    {
      "cell_type": "code",
      "source": [
        "#Writings Starts\n",
        "with open(\"test2.txt\",\"w\") as f:\n",
        "  val = 'names' #1 index\n",
        "  val1 = '10'\n",
        "  val2 = \"niamh\"\n",
        "  f.write(val+' '+val1+'\\n'+val2) #concatener\n",
        "  f.seek(0)\n",
        "  f.write(\"Test\")\n",
        "  f.seek(0)\n",
        "  f.write(\"Test\")"
      ],
      "metadata": {
        "id": "FIePFrQ__rVT"
      },
      "execution_count": 60,
      "outputs": []
    },
    {
      "cell_type": "code",
      "source": [
        "#Writings Starts\n",
        "with open(\"test.txt\",\"r\") as rf: #readingfile\n",
        "  with open(\"test_copy\",\"w\") as wf: #writingfile\n",
        "    for line in rf:\n",
        "      wf.write(line)\n"
      ],
      "metadata": {
        "id": "fOUXpfv7BBkL"
      },
      "execution_count": 61,
      "outputs": []
    },
    {
      "cell_type": "code",
      "source": [
        "with open(\"DSC_5898.JPG\", \"rb\") as rf:\n",
        "  with open(\"DSC_5898_COPY.jpg\", \"wb\") as wf:\n",
        "    for line in rf:\n",
        "      wf.write(line)"
      ],
      "metadata": {
        "id": "YyIaNRBhCvZA"
      },
      "execution_count": 62,
      "outputs": []
    },
    {
      "cell_type": "code",
      "source": [
        "with open(\"DSC_5898_COPY.jpg\", \"wb\") as f:\n",
        "    val1 = 'names'\n",
        "    val1 = '10'\n",
        "    val2 = 'niamh'\n",
        "    f.write(val+'\\n'+val1+'\\n'+val2) #concatener\n",
        "    f.seek(0)\n",
        "    f.write(\"Test\")\n",
        "    f.seek(6)\n",
        "    f.write('z')"
      ],
      "metadata": {
        "colab": {
          "base_uri": "https://localhost:8080/",
          "height": 276
        },
        "id": "68q-nr6kETWX",
        "outputId": "d0c6b85b-7353-437e-da30-e2c5b6dbaf24"
      },
      "execution_count": 63,
      "outputs": [
        {
          "output_type": "error",
          "ename": "TypeError",
          "evalue": "ignored",
          "traceback": [
            "\u001b[0;31m---------------------------------------------------------------------------\u001b[0m",
            "\u001b[0;31mTypeError\u001b[0m                                 Traceback (most recent call last)",
            "\u001b[0;32m<ipython-input-63-ca27fb1c3c86>\u001b[0m in \u001b[0;36m<cell line: 1>\u001b[0;34m()\u001b[0m\n\u001b[1;32m      3\u001b[0m     \u001b[0mval1\u001b[0m \u001b[0;34m=\u001b[0m \u001b[0;34m'10'\u001b[0m\u001b[0;34m\u001b[0m\u001b[0;34m\u001b[0m\u001b[0m\n\u001b[1;32m      4\u001b[0m     \u001b[0mval2\u001b[0m \u001b[0;34m=\u001b[0m \u001b[0;34m'niamh'\u001b[0m\u001b[0;34m\u001b[0m\u001b[0;34m\u001b[0m\u001b[0m\n\u001b[0;32m----> 5\u001b[0;31m     \u001b[0mf\u001b[0m\u001b[0;34m.\u001b[0m\u001b[0mwrite\u001b[0m\u001b[0;34m(\u001b[0m\u001b[0mval\u001b[0m\u001b[0;34m+\u001b[0m\u001b[0;34m'\\n'\u001b[0m\u001b[0;34m+\u001b[0m\u001b[0mval1\u001b[0m\u001b[0;34m+\u001b[0m\u001b[0;34m'\\n'\u001b[0m\u001b[0;34m+\u001b[0m\u001b[0mval2\u001b[0m\u001b[0;34m)\u001b[0m \u001b[0;31m#concatener\u001b[0m\u001b[0;34m\u001b[0m\u001b[0;34m\u001b[0m\u001b[0m\n\u001b[0m\u001b[1;32m      6\u001b[0m     \u001b[0mf\u001b[0m\u001b[0;34m.\u001b[0m\u001b[0mseek\u001b[0m\u001b[0;34m(\u001b[0m\u001b[0;36m0\u001b[0m\u001b[0;34m)\u001b[0m\u001b[0;34m\u001b[0m\u001b[0;34m\u001b[0m\u001b[0m\n\u001b[1;32m      7\u001b[0m     \u001b[0mf\u001b[0m\u001b[0;34m.\u001b[0m\u001b[0mwrite\u001b[0m\u001b[0;34m(\u001b[0m\u001b[0;34m\"Test\"\u001b[0m\u001b[0;34m)\u001b[0m\u001b[0;34m\u001b[0m\u001b[0;34m\u001b[0m\u001b[0m\n",
            "\u001b[0;31mTypeError\u001b[0m: a bytes-like object is required, not 'str'"
          ]
        }
      ]
    },
    {
      "cell_type": "code",
      "source": [],
      "metadata": {
        "id": "Vj1O-jQ1FaxX"
      },
      "execution_count": null,
      "outputs": []
    }
  ]
}