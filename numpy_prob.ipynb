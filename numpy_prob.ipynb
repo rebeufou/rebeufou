{
  "nbformat": 4,
  "nbformat_minor": 0,
  "metadata": {
    "colab": {
      "provenance": [],
      "authorship_tag": "ABX9TyPFmZNgLevAJLquPUCj6rGw",
      "include_colab_link": true
    },
    "kernelspec": {
      "name": "python3",
      "display_name": "Python 3"
    },
    "language_info": {
      "name": "python"
    }
  },
  "cells": [
    {
      "cell_type": "markdown",
      "metadata": {
        "id": "view-in-github",
        "colab_type": "text"
      },
      "source": [
        "<a href=\"https://colab.research.google.com/github/rebeufou/rebeufou/blob/main/numpy_prob.ipynb\" target=\"_parent\"><img src=\"https://colab.research.google.com/assets/colab-badge.svg\" alt=\"Open In Colab\"/></a>"
      ]
    },
    {
      "cell_type": "code",
      "execution_count": null,
      "metadata": {
        "id": "DMb1fRVEYllI"
      },
      "outputs": [],
      "source": [
        "import numpy as np"
      ]
    },
    {
      "cell_type": "code",
      "source": [
        "angstroms = np.linspace(1.0, 5.0, 21)\n",
        "\n",
        "nanometers = angstroms * 0.1\n",
        "\n",
        "for i in range(len(angstroms)):\n",
        "     print(\"{:.2f} Angstrom = {:.2f} nm\".format(angstroms[i],nanometers[i]))\n"
      ],
      "metadata": {
        "colab": {
          "base_uri": "https://localhost:8080/"
        },
        "id": "DU6iG-BQZeQS",
        "outputId": "d74838e4-0aa6-4a1a-eb78-46e0e9bb364a"
      },
      "execution_count": null,
      "outputs": [
        {
          "output_type": "stream",
          "name": "stdout",
          "text": [
            "1.00 Angstrom = 0.10 nm\n",
            "1.20 Angstrom = 0.12 nm\n",
            "1.40 Angstrom = 0.14 nm\n",
            "1.60 Angstrom = 0.16 nm\n",
            "1.80 Angstrom = 0.18 nm\n",
            "2.00 Angstrom = 0.20 nm\n",
            "2.20 Angstrom = 0.22 nm\n",
            "2.40 Angstrom = 0.24 nm\n",
            "2.60 Angstrom = 0.26 nm\n",
            "2.80 Angstrom = 0.28 nm\n",
            "3.00 Angstrom = 0.30 nm\n",
            "3.20 Angstrom = 0.32 nm\n",
            "3.40 Angstrom = 0.34 nm\n",
            "3.60 Angstrom = 0.36 nm\n",
            "3.80 Angstrom = 0.38 nm\n",
            "4.00 Angstrom = 0.40 nm\n",
            "4.20 Angstrom = 0.42 nm\n",
            "4.40 Angstrom = 0.44 nm\n",
            "4.60 Angstrom = 0.46 nm\n",
            "4.80 Angstrom = 0.48 nm\n",
            "5.00 Angstrom = 0.50 nm\n"
          ]
        }
      ]
    },
    {
      "cell_type": "code",
      "source": [
        "xo = float(input(\"Value of xo : \"))\n",
        "s = float(input(\"Value of s : \"))\n",
        "x0 = float(input(\"Value of x0 : \"))\n",
        "xn = float(input(\"Value of xn : \"))\n",
        "n = int(input(\"number of points : \"))\n",
        "\n",
        "x = np.linspace(x0,xn,n)\n",
        "y = (1/(np.sqrt(2*np.pi)))*np.exp(-(x-xo)*2/(2*s*2))\n",
        "\n",
        "for i in range(n):\n",
        "     print(\"{:.3f} {:.5f}\".format(x[i],y[i]))"
      ],
      "metadata": {
        "colab": {
          "base_uri": "https://localhost:8080/"
        },
        "id": "vAHWqlUfaETM",
        "outputId": "c932549b-7ae4-4207-c93e-1811a66f375f"
      },
      "execution_count": null,
      "outputs": [
        {
          "output_type": "stream",
          "name": "stdout",
          "text": [
            "Value of xo : -1\n",
            "Value of s : 9\n",
            "Value of x0 : 1\n",
            "Value of xn : 2\n",
            "number of points : 3\n",
            "1.000 0.35699\n",
            "1.500 0.34721\n",
            "2.000 0.33770\n"
          ]
        }
      ]
    },
    {
      "cell_type": "code",
      "source": [
        "temp = [13.8, 13.3, 13.9, 15.0, 16.4, 20.0, 21.9, 22.3, 22.0, 21.2, 18.8, 16.0]\n",
        "months = ['January', 'February', 'March', 'April', 'May', 'June', 'July', 'August', 'September', 'October', 'November', 'December']\n",
        "temp_array = np.array(temp)\n",
        "\n",
        "\n",
        "averagetemperature2014 = np.mean(temp_array)\n",
        "\n",
        "coldmonthindex = np.argmin(temp_array) #coldest temperature\n",
        "coldmonth = months[coldmonthindex]\n",
        "coldtemperature = temp_array[coldmonthindex]\n",
        "\n",
        "warmmonthindex = np.argmax(temp_array) #warmest temperature\n",
        "warmmonth = months[warmmonthindex]\n",
        "warmtemperature = temp_array[warmmonthindex]\n",
        "\n",
        "print(\"The average sea surface temperature in 2014 was : {:.1f} °C\".format(averagetemperature2014))\n",
        "print(\"The coldest month is {} with a temperature of {} °C.\".format(coldmonth,coldtemperature))\n",
        "print(\"The warmest month is {} with a temperature of {} °C.\".format(warmmonth,warmtemperature))"
      ],
      "metadata": {
        "colab": {
          "base_uri": "https://localhost:8080/"
        },
        "id": "sPFgj75yafsr",
        "outputId": "443edb36-1b29-4b19-9c0a-1544fb5a35f5"
      },
      "execution_count": null,
      "outputs": [
        {
          "output_type": "stream",
          "name": "stdout",
          "text": [
            "The average sea surface temperature in 2014 was : 17.9 °C\n",
            "The coldest month is February with a temperature of 13.3 °C.\n",
            "The warmest month is August with a temperature of 22.3 °C.\n"
          ]
        }
      ]
    },
    {
      "cell_type": "code",
      "source": [
        "students=int(input(\"Number of student \"))\n",
        "table=np.zeros((students,4))\n",
        "for i in range(students):\n",
        "    table[i,0]=i\n",
        "    table[i,1]=float(input(\"Theory Grade {} \".format(i)))\n",
        "    table[i,2]=float(input(\"Problem Grade {} \".format(i)))\n",
        "    table[i,3]=table[i,1]*0.4+table[i,2]*0.6\n",
        "max=np.max(table[:,-1])\n",
        "min=np.min(table[:,-1])\n",
        "average=np.average(table[:,-1])\n",
        "index=0\n",
        "for i in range(students):\n",
        "    if(table[i,3]==max):\n",
        "        index=i+1\n",
        "print(\"Maximum Grade {} index {}\".format(max,index))\n",
        "print(\"Minimum Grade {}  \".format(min))\n",
        "print(\"Average Grade{:.2f}  \".format(average))"
      ],
      "metadata": {
        "colab": {
          "base_uri": "https://localhost:8080/"
        },
        "id": "nPU16jTwbJxd",
        "outputId": "feec9e5d-c5f0-4d53-8a14-2b94d59c2704"
      },
      "execution_count": null,
      "outputs": [
        {
          "output_type": "stream",
          "name": "stdout",
          "text": [
            "Number of student 2\n",
            "Theory Grade 0 20\n",
            "Problem Grade 0 19\n",
            "Theory Grade 1 0\n",
            "Problem Grade 1 2\n",
            "Maximum Grade 19.4 index 1\n",
            "Minimum Grade 1.2  \n",
            "Average Grade10.30  \n"
          ]
        }
      ]
    },
    {
      "cell_type": "code",
      "source": [],
      "metadata": {
        "id": "aJ9WRr-JbuIW"
      },
      "execution_count": null,
      "outputs": []
    }
  ]
}